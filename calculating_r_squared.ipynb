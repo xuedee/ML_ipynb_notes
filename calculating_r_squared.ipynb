{
 "cells": [
  {
   "cell_type": "markdown",
   "id": "7bcd760e",
   "metadata": {},
   "source": [
    "# R²\n",
    "\n",
    "'In statistics, the coefficient of determination, denoted R2 or r2 and pronounced \"R squared\", is the proportion of the variation in the dependent variable that is predictable from the independent variable(s).' - https://en.wikipedia.org/wiki/Coefficient_of_determination\n",
    "\n",
    "Variance is a statistical measure that quantifies the spread or dispersion of a set of data points. It essentially describes how much the individual data points deviate from the average (mean) of the dataset. A higher variance indicates that the data points are more widely spread, while a lower variance indicates that they are clustered more closely around the mean.\n",
    "- Variance is calculated by finding the average of the squared differences between each data point and the mean.\n",
    "- It is a measure of variability, meaning it shows how much the data varies around its central tendency."
   ]
  },
  {
   "cell_type": "markdown",
   "id": "9324aaca",
   "metadata": {},
   "source": [
    "## Calculating R² manually"
   ]
  },
  {
   "cell_type": "code",
   "execution_count": 1,
   "id": "d3352c6a",
   "metadata": {},
   "outputs": [],
   "source": [
    "import numpy as np"
   ]
  },
  {
   "cell_type": "markdown",
   "id": "aa2e6974",
   "metadata": {},
   "source": [
    "### Example data\n",
    "Here we create a numpy array to represent the true values and another numpy array to represent estimates from some machine learning model."
   ]
  },
  {
   "cell_type": "code",
   "execution_count": 2,
   "id": "d36ef21a",
   "metadata": {},
   "outputs": [],
   "source": [
    "y_true = np.array([3, -0.5, 2, 7])\n",
    "y_pred = np.array([2.5, 0.0, 2, 8])"
   ]
  },
  {
   "cell_type": "markdown",
   "id": "7a1289b9",
   "metadata": {},
   "source": [
    "### Step 1: Calculate the mean of the true values\n",
    "This is the average value for the observed data points."
   ]
  },
  {
   "cell_type": "code",
   "execution_count": 3,
   "id": "cb9fb65d",
   "metadata": {},
   "outputs": [
    {
     "data": {
      "text/plain": [
       "2.875"
      ]
     },
     "execution_count": 3,
     "metadata": {},
     "output_type": "execute_result"
    }
   ],
   "source": [
    "y_mean = np.mean(y_true)\n",
    "\n",
    "y_mean"
   ]
  },
  {
   "cell_type": "markdown",
   "id": "75ebf56a",
   "metadata": {},
   "source": [
    "### Step 2: Calculate Total Sum of Squares (TSS)\n",
    "TSS measures the total variance in the observed data. It is the **sum** of squared differences between each true value and the mean. Remember that variance is the **average** of the squared differences between each true value and the mean."
   ]
  },
  {
   "cell_type": "code",
   "execution_count": 4,
   "id": "93267160",
   "metadata": {},
   "outputs": [
    {
     "data": {
      "text/plain": [
       "29.1875"
      ]
     },
     "execution_count": 4,
     "metadata": {},
     "output_type": "execute_result"
    }
   ],
   "source": [
    "total_sum_of_squares = np.sum((y_true - y_mean) ** 2)\n",
    "\n",
    "total_sum_of_squares"
   ]
  },
  {
   "cell_type": "markdown",
   "id": "36ec9782",
   "metadata": {},
   "source": [
    "### Step 3: Calculate Residual Sum of Squares (RSS)\n",
    "RSS measures the error of the predictions. It is the sum of squared differences between each true value and its prediction."
   ]
  },
  {
   "cell_type": "code",
   "execution_count": 5,
   "id": "b2b210a9",
   "metadata": {},
   "outputs": [
    {
     "data": {
      "text/plain": [
       "1.5"
      ]
     },
     "execution_count": 5,
     "metadata": {},
     "output_type": "execute_result"
    }
   ],
   "source": [
    "sum_of_error_squared = np.sum((y_true - y_pred) ** 2)\n",
    "\n",
    "sum_of_error_squared"
   ]
  },
  {
   "cell_type": "markdown",
   "id": "e9af862f",
   "metadata": {},
   "source": [
    "### Step 4: Calculate R-squared (R²)\n",
    "The formula for calulating R² is:\n",
    "- R² = 1 - (RSS / TSS)\n",
    "\n",
    "It represents the proportion of variance explained by the model. If the error is zero, R² will equal 1. Larger errors will result in lower R² values. An R² value of 0 would indicate that the model is no better than predicting the mean--it does not explain any of the variability in the data. "
   ]
  },
  {
   "cell_type": "code",
   "execution_count": 6,
   "id": "acd37641",
   "metadata": {},
   "outputs": [
    {
     "name": "stdout",
     "output_type": "stream",
     "text": [
      "manual R²: 0.9486081370449679\n"
     ]
    }
   ],
   "source": [
    "r2_manual = 1 - (sum_of_error_squared / total_sum_of_squares)\n",
    "\n",
    "print(\"manual R²:\", r2_manual)"
   ]
  },
  {
   "cell_type": "markdown",
   "id": "fda553ae",
   "metadata": {},
   "source": [
    "## Using scikit-learn's built-in r2_score function\n",
    "We don't need to calculate R² manually when evaluating our machine learning models."
   ]
  },
  {
   "cell_type": "code",
   "execution_count": 7,
   "id": "23ef4fc7",
   "metadata": {},
   "outputs": [],
   "source": [
    "from sklearn.metrics import r2_score"
   ]
  },
  {
   "cell_type": "code",
   "execution_count": 8,
   "id": "80369110",
   "metadata": {},
   "outputs": [
    {
     "name": "stdout",
     "output_type": "stream",
     "text": [
      "scikit-learn R²: 0.9486081370449679\n"
     ]
    }
   ],
   "source": [
    "r2_sklearn = r2_score(y_true, y_pred)\n",
    "print(\"scikit-learn R²:\", r2_sklearn)"
   ]
  }
 ],
 "metadata": {
  "kernelspec": {
   "display_name": "AI-ML-Bootcamp-24-25",
   "language": "python",
   "name": "python3"
  },
  "language_info": {
   "codemirror_mode": {
    "name": "ipython",
    "version": 3
   },
   "file_extension": ".py",
   "mimetype": "text/x-python",
   "name": "python",
   "nbconvert_exporter": "python",
   "pygments_lexer": "ipython3",
   "version": "3.12.3"
  }
 },
 "nbformat": 4,
 "nbformat_minor": 5
}
