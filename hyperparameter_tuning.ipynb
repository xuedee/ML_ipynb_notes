{
 "cells": [
  {
   "cell_type": "markdown",
   "metadata": {},
   "source": [
    "# Optimizing our Models"
   ]
  },
  {
   "cell_type": "code",
   "execution_count": 1,
   "metadata": {},
   "outputs": [],
   "source": [
    "import pandas as pd\n",
    "from sklearn.model_selection import train_test_split\n",
    "from sklearn.preprocessing import OrdinalEncoder\n",
    "from sklearn.model_selection import GridSearchCV\n",
    "import xgboost as xgb\n",
    "from sklearn.tree import DecisionTreeRegressor\n",
    "from sklearn.ensemble import RandomForestRegressor\n",
    "from sklearn.ensemble import HistGradientBoostingRegressor"
   ]
  },
  {
   "cell_type": "markdown",
   "metadata": {},
   "source": [
    "## Load and Process the Data\n",
    "This is using the same procedure as in housing_prices.ipynb. It would make sense to extract this into its own distinct process so that we didn't have to duplicate the code."
   ]
  },
  {
   "cell_type": "code",
   "execution_count": 2,
   "metadata": {},
   "outputs": [],
   "source": [
    "df = pd.read_csv('data/housing.csv')\n",
    "df = df.dropna()"
   ]
  },
  {
   "cell_type": "code",
   "execution_count": 3,
   "metadata": {},
   "outputs": [],
   "source": [
    "X = df.drop('median_house_value', axis=1)\n",
    "y = df['median_house_value']"
   ]
  },
  {
   "cell_type": "code",
   "execution_count": 4,
   "metadata": {},
   "outputs": [],
   "source": [
    "X_train, X_test, y_train, y_test = train_test_split(\n",
    "    X,\n",
    "    y,\n",
    "    test_size=0.3,\n",
    "    random_state=42)"
   ]
  },
  {
   "cell_type": "code",
   "execution_count": 5,
   "metadata": {},
   "outputs": [],
   "source": [
    "# Define the categories in the desired order for encoding\n",
    "categories = [['INLAND', '<1H OCEAN', 'NEAR OCEAN', 'NEAR BAY', 'ISLAND']]\n",
    "encoder = OrdinalEncoder(categories=categories)\n",
    "X_train['ocean_proximity'] = encoder.fit_transform(\n",
    "    X_train[['ocean_proximity']])"
   ]
  },
  {
   "cell_type": "code",
   "execution_count": 6,
   "metadata": {},
   "outputs": [
    {
     "data": {
      "application/vnd.microsoft.datawrangler.viewer.v0+json": {
       "columns": [
        {
         "name": "index",
         "rawType": "int64",
         "type": "integer"
        },
        {
         "name": "longitude",
         "rawType": "float64",
         "type": "float"
        },
        {
         "name": "latitude",
         "rawType": "float64",
         "type": "float"
        },
        {
         "name": "housing_median_age",
         "rawType": "float64",
         "type": "float"
        },
        {
         "name": "total_rooms",
         "rawType": "float64",
         "type": "float"
        },
        {
         "name": "total_bedrooms",
         "rawType": "float64",
         "type": "float"
        },
        {
         "name": "population",
         "rawType": "float64",
         "type": "float"
        },
        {
         "name": "households",
         "rawType": "float64",
         "type": "float"
        },
        {
         "name": "median_income",
         "rawType": "float64",
         "type": "float"
        },
        {
         "name": "ocean_proximity",
         "rawType": "float64",
         "type": "float"
        }
       ],
       "ref": "ebddbf6d-c487-4878-9ed4-5c283a1cb3d7",
       "rows": [
        [
         "19566",
         "-120.96",
         "37.61",
         "23.0",
         "3497.0",
         "887.0",
         "2467.0",
         "816.0",
         "1.9444",
         "0.0"
        ],
        [
         "7292",
         "-118.22",
         "33.98",
         "34.0",
         "2225.0",
         "753.0",
         "2980.0",
         "736.0",
         "1.6685",
         "1.0"
        ],
        [
         "17618",
         "-121.94",
         "37.28",
         "27.0",
         "2859.0",
         "464.0",
         "1144.0",
         "430.0",
         "5.0822",
         "1.0"
        ],
        [
         "17518",
         "-121.91",
         "37.34",
         "35.0",
         "2189.0",
         "607.0",
         "1193.0",
         "562.0",
         "2.8042",
         "1.0"
        ],
        [
         "5172",
         "-118.28",
         "33.95",
         "41.0",
         "835.0",
         "208.0",
         "707.0",
         "192.0",
         "1.4103",
         "1.0"
        ]
       ],
       "shape": {
        "columns": 9,
        "rows": 5
       }
      },
      "text/html": [
       "<div>\n",
       "<style scoped>\n",
       "    .dataframe tbody tr th:only-of-type {\n",
       "        vertical-align: middle;\n",
       "    }\n",
       "\n",
       "    .dataframe tbody tr th {\n",
       "        vertical-align: top;\n",
       "    }\n",
       "\n",
       "    .dataframe thead th {\n",
       "        text-align: right;\n",
       "    }\n",
       "</style>\n",
       "<table border=\"1\" class=\"dataframe\">\n",
       "  <thead>\n",
       "    <tr style=\"text-align: right;\">\n",
       "      <th></th>\n",
       "      <th>longitude</th>\n",
       "      <th>latitude</th>\n",
       "      <th>housing_median_age</th>\n",
       "      <th>total_rooms</th>\n",
       "      <th>total_bedrooms</th>\n",
       "      <th>population</th>\n",
       "      <th>households</th>\n",
       "      <th>median_income</th>\n",
       "      <th>ocean_proximity</th>\n",
       "    </tr>\n",
       "  </thead>\n",
       "  <tbody>\n",
       "    <tr>\n",
       "      <th>19566</th>\n",
       "      <td>-120.96</td>\n",
       "      <td>37.61</td>\n",
       "      <td>23.0</td>\n",
       "      <td>3497.0</td>\n",
       "      <td>887.0</td>\n",
       "      <td>2467.0</td>\n",
       "      <td>816.0</td>\n",
       "      <td>1.9444</td>\n",
       "      <td>0.0</td>\n",
       "    </tr>\n",
       "    <tr>\n",
       "      <th>7292</th>\n",
       "      <td>-118.22</td>\n",
       "      <td>33.98</td>\n",
       "      <td>34.0</td>\n",
       "      <td>2225.0</td>\n",
       "      <td>753.0</td>\n",
       "      <td>2980.0</td>\n",
       "      <td>736.0</td>\n",
       "      <td>1.6685</td>\n",
       "      <td>1.0</td>\n",
       "    </tr>\n",
       "    <tr>\n",
       "      <th>17618</th>\n",
       "      <td>-121.94</td>\n",
       "      <td>37.28</td>\n",
       "      <td>27.0</td>\n",
       "      <td>2859.0</td>\n",
       "      <td>464.0</td>\n",
       "      <td>1144.0</td>\n",
       "      <td>430.0</td>\n",
       "      <td>5.0822</td>\n",
       "      <td>1.0</td>\n",
       "    </tr>\n",
       "    <tr>\n",
       "      <th>17518</th>\n",
       "      <td>-121.91</td>\n",
       "      <td>37.34</td>\n",
       "      <td>35.0</td>\n",
       "      <td>2189.0</td>\n",
       "      <td>607.0</td>\n",
       "      <td>1193.0</td>\n",
       "      <td>562.0</td>\n",
       "      <td>2.8042</td>\n",
       "      <td>1.0</td>\n",
       "    </tr>\n",
       "    <tr>\n",
       "      <th>5172</th>\n",
       "      <td>-118.28</td>\n",
       "      <td>33.95</td>\n",
       "      <td>41.0</td>\n",
       "      <td>835.0</td>\n",
       "      <td>208.0</td>\n",
       "      <td>707.0</td>\n",
       "      <td>192.0</td>\n",
       "      <td>1.4103</td>\n",
       "      <td>1.0</td>\n",
       "    </tr>\n",
       "  </tbody>\n",
       "</table>\n",
       "</div>"
      ],
      "text/plain": [
       "       longitude  latitude  housing_median_age  total_rooms  total_bedrooms  \\\n",
       "19566    -120.96     37.61                23.0       3497.0           887.0   \n",
       "7292     -118.22     33.98                34.0       2225.0           753.0   \n",
       "17618    -121.94     37.28                27.0       2859.0           464.0   \n",
       "17518    -121.91     37.34                35.0       2189.0           607.0   \n",
       "5172     -118.28     33.95                41.0        835.0           208.0   \n",
       "\n",
       "       population  households  median_income  ocean_proximity  \n",
       "19566      2467.0       816.0         1.9444              0.0  \n",
       "7292       2980.0       736.0         1.6685              1.0  \n",
       "17618      1144.0       430.0         5.0822              1.0  \n",
       "17518      1193.0       562.0         2.8042              1.0  \n",
       "5172        707.0       192.0         1.4103              1.0  "
      ]
     },
     "execution_count": 6,
     "metadata": {},
     "output_type": "execute_result"
    }
   ],
   "source": [
    "X_train.head()"
   ]
  },
  {
   "cell_type": "code",
   "execution_count": 7,
   "metadata": {},
   "outputs": [
    {
     "data": {
      "application/vnd.microsoft.datawrangler.viewer.v0+json": {
       "columns": [
        {
         "name": "index",
         "rawType": "int64",
         "type": "integer"
        },
        {
         "name": "median_house_value",
         "rawType": "float64",
         "type": "float"
        }
       ],
       "ref": "0b01c056-cb47-4754-9fc0-a7364b43b2a6",
       "rows": [
        [
         "19566",
         "93400.0"
        ],
        [
         "7292",
         "128800.0"
        ],
        [
         "17618",
         "327500.0"
        ],
        [
         "17518",
         "240900.0"
        ],
        [
         "5172",
         "86200.0"
        ]
       ],
       "shape": {
        "columns": 1,
        "rows": 5
       }
      },
      "text/plain": [
       "19566     93400.0\n",
       "7292     128800.0\n",
       "17618    327500.0\n",
       "17518    240900.0\n",
       "5172      86200.0\n",
       "Name: median_house_value, dtype: float64"
      ]
     },
     "execution_count": 7,
     "metadata": {},
     "output_type": "execute_result"
    }
   ],
   "source": [
    "y_train.head()"
   ]
  },
  {
   "cell_type": "markdown",
   "metadata": {},
   "source": [
    "Encode the ocean_proximity column in our validation and test sets as well."
   ]
  },
  {
   "cell_type": "code",
   "execution_count": 8,
   "metadata": {},
   "outputs": [],
   "source": [
    "X_test['ocean_proximity'] = encoder.fit_transform(\n",
    "    X_test[['ocean_proximity']])"
   ]
  },
  {
   "cell_type": "markdown",
   "metadata": {},
   "source": [
    "## Optimize our Models with Grid Search\n",
    "https://scikit-learn.org/stable/modules/generated/sklearn.model_selection.GridSearchCV.html"
   ]
  },
  {
   "cell_type": "markdown",
   "metadata": {},
   "source": [
    "The function below performs a grid search. To use it, we will define the parameters (including the type of model we wish to optimize)."
   ]
  },
  {
   "cell_type": "code",
   "execution_count": 9,
   "metadata": {},
   "outputs": [],
   "source": [
    "def perform_grid_search(parameters):\n",
    "    results = {}\n",
    "    for name, setup in parameters.items():\n",
    "        grid_search = GridSearchCV(\n",
    "            setup['model'],\n",
    "            setup['params'],\n",
    "            cv=3,\n",
    "            scoring='neg_mean_squared_error',\n",
    "            n_jobs=-1)\n",
    "\n",
    "        grid_search.fit(X_train, y_train)\n",
    "\n",
    "        results[name] = {\n",
    "            'best_score': grid_search.best_score_,\n",
    "            'best_params': grid_search.best_params_}\n",
    "    return results"
   ]
  },
  {
   "cell_type": "markdown",
   "metadata": {},
   "source": [
    "### Sidebar: k-Fold Cross-Validation\n",
    "You may have noticed the cv=3 argument to GridSearchCV. This refers to \"cross-validation\".\n",
    "\n",
    "k-Fold Cross-Validation is a technique used to evaluate how well a machine learning model will perform on unseen data. Instead of splitting the data into just one training set and one test set, k-fold cross-validation splits the data into k equal-sized parts called folds.\n",
    "\n",
    "1. The dataset is shuffled (optional, but usually recommended) to make sure the data is randomly ordered.\n",
    "2. The data is then split into k folds (for example, if k=3, you split the data into 3 parts of roughly equal size).\n",
    "3. The model is trained k times — each time using k-1 folds for training and the remaining fold for validation.\n",
    "4. Each fold gets a turn to be the validation set exactly once.\n",
    "5. At the end, you calculate the average performance across all k runs to get a more reliable estimate of how the model performs.\n",
    "\n",
    "\n",
    "#### Example (k=3)\n",
    "\n",
    "| Fold # | Training Folds | Validation Fold |\n",
    "|---|---|---|\n",
    "| 1 | Folds 2, 3 | Fold 1 |\n",
    "| 2 | Folds 1, 3 | Fold 2 |\n",
    "| 3 | Folds 1, 2 | Fold 3 |\n",
    "\n",
    "\n",
    "\n",
    "#### Why Use k-Fold Cross-Validation?\n",
    "\n",
    "- It makes better use of your data — instead of losing data to a fixed validation set, every data point gets used for both training and validation.\n",
    "- It gives a more reliable estimate of performance, because you're testing on multiple different slices of the data.\n",
    "- It helps you detect overfitting — if the model does great on some folds but poorly on others, that's a sign the model might be too sensitive to the training data.\n",
    "\n",
    "#### k-Fold for Regression vs Classification\n",
    "\n",
    "- For regression, you can split the data into k regular folds (each fold gets a roughly equal number of samples).\n",
    "- For classification, you might want to use Stratified k-Fold. This ensures that each fold contains roughly the same proportion of each class (important if your classes are imbalanced)."
   ]
  },
  {
   "cell_type": "markdown",
   "metadata": {},
   "source": [
    "### Decision Tree"
   ]
  },
  {
   "cell_type": "code",
   "execution_count": 10,
   "metadata": {},
   "outputs": [],
   "source": [
    "decision_tree_params = {\n",
    "    'DecisionTree': {\n",
    "        'model': DecisionTreeRegressor(random_state=42),\n",
    "        'params': {\n",
    "            'criterion': ['squared_error', 'friedman_mse', 'absolute_error', 'poisson'],\n",
    "            #'splitter': ['best', 'random'],\n",
    "            'max_depth': [None, 10],\n",
    "            'min_samples_split': [2, 3],\n",
    "            'min_samples_leaf': [1, 14, 20],\n",
    "            'min_weight_fraction_leaf': [0.0, 0.01],\n",
    "            'max_features': [None, 'sqrt', 'log2'],\n",
    "            'max_leaf_nodes': [None, 100, 150],\n",
    "            'min_impurity_decrease': [0.0, 0.01],\n",
    "            'ccp_alpha': [0.0, 0.01, 0.02]\n",
    "        }\n",
    "    }\n",
    "}"
   ]
  },
  {
   "cell_type": "code",
   "execution_count": 11,
   "metadata": {},
   "outputs": [
    {
     "data": {
      "text/plain": [
       "{'DecisionTree': {'best_score': -3427705884.6115246,\n",
       "  'best_params': {'ccp_alpha': 0.0,\n",
       "   'criterion': 'poisson',\n",
       "   'max_depth': None,\n",
       "   'max_features': None,\n",
       "   'max_leaf_nodes': None,\n",
       "   'min_impurity_decrease': 0.01,\n",
       "   'min_samples_leaf': 14,\n",
       "   'min_samples_split': 2,\n",
       "   'min_weight_fraction_leaf': 0.0}}}"
      ]
     },
     "execution_count": 11,
     "metadata": {},
     "output_type": "execute_result"
    }
   ],
   "source": [
    "perform_grid_search(decision_tree_params)"
   ]
  },
  {
   "cell_type": "markdown",
   "metadata": {},
   "source": [
    "### Random Forest"
   ]
  },
  {
   "cell_type": "code",
   "execution_count": 12,
   "metadata": {},
   "outputs": [],
   "source": [
    "random_forest_params = {\n",
    "    'RandomForest': {\n",
    "        'model': RandomForestRegressor(random_state=42),\n",
    "        'params': {\n",
    "            'n_estimators': [10, 100, 400],\n",
    "            'max_features': [None, 'sqrt', 'log2']\n",
    "        }\n",
    "    }\n",
    "}"
   ]
  },
  {
   "cell_type": "code",
   "execution_count": 13,
   "metadata": {},
   "outputs": [
    {
     "data": {
      "text/plain": [
       "{'RandomForest': {'best_score': -2573219444.0531,\n",
       "  'best_params': {'max_features': 'sqrt', 'n_estimators': 400}}}"
      ]
     },
     "execution_count": 13,
     "metadata": {},
     "output_type": "execute_result"
    }
   ],
   "source": [
    "perform_grid_search(random_forest_params)"
   ]
  },
  {
   "cell_type": "markdown",
   "metadata": {},
   "source": [
    "### Gradient Boosting"
   ]
  },
  {
   "cell_type": "code",
   "execution_count": 14,
   "metadata": {},
   "outputs": [],
   "source": [
    "gradient_boosting_params = {\n",
    "    'HistGradientBoosting': {\n",
    "        'model': HistGradientBoostingRegressor(random_state=42),\n",
    "        'params': {\n",
    "            'max_iter': [50, 100, 150],\n",
    "            'learning_rate': [0.01, 0.1, 0.2]\n",
    "        }\n",
    "    }\n",
    "}"
   ]
  },
  {
   "cell_type": "code",
   "execution_count": 15,
   "metadata": {},
   "outputs": [
    {
     "data": {
      "text/plain": [
       "{'HistGradientBoosting': {'best_score': -2300070904.601216,\n",
       "  'best_params': {'learning_rate': 0.2, 'max_iter': 150}}}"
      ]
     },
     "execution_count": 15,
     "metadata": {},
     "output_type": "execute_result"
    }
   ],
   "source": [
    "perform_grid_search(gradient_boosting_params)"
   ]
  },
  {
   "cell_type": "markdown",
   "metadata": {},
   "source": [
    "### XGBoost"
   ]
  },
  {
   "cell_type": "code",
   "execution_count": 16,
   "metadata": {},
   "outputs": [],
   "source": [
    "xgboost_params = {\n",
    "    'XGBoost': {\n",
    "        'model': xgb.XGBRegressor(random_state=42),\n",
    "        'params': {\n",
    "            'n_estimators': [100, 200, 300],\n",
    "            'learning_rate': [0.01, 0.1, 0.2],\n",
    "            'max_depth': [3, 6, 9],\n",
    "            'subsample': [0.5, 0.7, 1.0],\n",
    "            'colsample_bytree': [0.5, 0.7, 1.0]\n",
    "        }\n",
    "    }\n",
    "}"
   ]
  },
  {
   "cell_type": "code",
   "execution_count": 17,
   "metadata": {},
   "outputs": [
    {
     "data": {
      "text/plain": [
       "{'XGBoost': {'best_score': -2265082406.696934,\n",
       "  'best_params': {'colsample_bytree': 1.0,\n",
       "   'learning_rate': 0.1,\n",
       "   'max_depth': 6,\n",
       "   'n_estimators': 300,\n",
       "   'subsample': 0.7}}}"
      ]
     },
     "execution_count": 17,
     "metadata": {},
     "output_type": "execute_result"
    }
   ],
   "source": [
    "perform_grid_search(xgboost_params)"
   ]
  },
  {
   "cell_type": "markdown",
   "metadata": {},
   "source": [
    "## Build and Evaluate Models Using Optimized Hyperparameters"
   ]
  },
  {
   "cell_type": "code",
   "execution_count": 18,
   "metadata": {},
   "outputs": [],
   "source": [
    "from sklearn.metrics import mean_squared_error, r2_score"
   ]
  },
  {
   "cell_type": "markdown",
   "metadata": {},
   "source": [
    "### Decision tree\n",
    "\n",
    "Best parameters from grid search:\n",
    "'ccp_alpha': 0.0, 'criterion': 'poisson', 'max_depth': None, 'max_features': None, 'max_leaf_nodes': None, 'min_impurity_decrease': 0.01, 'min_samples_leaf': 14, 'min_samples_split': 2, 'min_weight_fraction_leaf': 0.0"
   ]
  },
  {
   "cell_type": "code",
   "execution_count": 19,
   "metadata": {},
   "outputs": [
    {
     "name": "stdout",
     "output_type": "stream",
     "text": [
      "Decision Tree MSE: 3152051207.5525823\n",
      "Decision Treet R² Score: 0.7635535831938253\n"
     ]
    }
   ],
   "source": [
    "tree_regressor = DecisionTreeRegressor(\n",
    "    ccp_alpha=0.0, \n",
    "    criterion='poisson',\n",
    "    max_depth=None,\n",
    "    max_features=None,\n",
    "    max_leaf_nodes=None,\n",
    "    min_impurity_decrease=0.01,\n",
    "    min_samples_leaf=14,\n",
    "    min_samples_split=2,\n",
    "    min_weight_fraction_leaf=0.0,\n",
    "    random_state=42)\n",
    "\n",
    "tree_regressor.fit(X_train, y_train)\n",
    "\n",
    "y_pred_tree = tree_regressor.predict(X_test)\n",
    "\n",
    "mse_tree = mean_squared_error(y_test, y_pred_tree)\n",
    "r2_tree = r2_score(y_test, y_pred_tree)\n",
    "\n",
    "print(\"Decision Tree MSE:\", mse_tree)\n",
    "print(\"Decision Treet R² Score:\", r2_tree)"
   ]
  },
  {
   "cell_type": "markdown",
   "metadata": {},
   "source": [
    " ### Random forest\n",
    " Best parameters from grid search: 'max_features': 'sqrt', 'n_estimators': 400"
   ]
  },
  {
   "cell_type": "code",
   "execution_count": 20,
   "metadata": {},
   "outputs": [
    {
     "name": "stdout",
     "output_type": "stream",
     "text": [
      "Random Forest MSE: 2371179840.1664042\n",
      "Random Forest R² Score: 0.8221294833450031\n"
     ]
    }
   ],
   "source": [
    "forest_regressor = RandomForestRegressor(\n",
    "    max_features='sqrt',\n",
    "    n_estimators=400,\n",
    "    random_state=42)\n",
    "\n",
    "forest_regressor.fit(X_train, y_train)\n",
    "\n",
    "y_pred_forest = forest_regressor.predict(X_test)\n",
    "\n",
    "mse_forest = mean_squared_error(y_test, y_pred_forest)\n",
    "r2_forest = r2_score(y_test, y_pred_forest)\n",
    "\n",
    "print(\"Random Forest MSE:\", mse_forest)\n",
    "print(\"Random Forest R² Score:\", r2_forest)"
   ]
  },
  {
   "cell_type": "markdown",
   "metadata": {},
   "source": [
    "### Gradient boosting\n",
    "Best parameters from grid search: 'learning_rate': 0.2, 'max_iter': 150"
   ]
  },
  {
   "cell_type": "code",
   "execution_count": 21,
   "metadata": {},
   "outputs": [
    {
     "name": "stdout",
     "output_type": "stream",
     "text": [
      "HistGradientBoostingRegressor MSE: 2165946320.011851\n",
      "HistGradientBoostingRegressor R²: 0.8375247695423809\n"
     ]
    }
   ],
   "source": [
    "hist_regressor = HistGradientBoostingRegressor(\n",
    "    learning_rate=0.2,\n",
    "    max_iter=150,\n",
    "    random_state=42)\n",
    "\n",
    "hist_regressor.fit(X_train, y_train)\n",
    "\n",
    "y_pred_hist = hist_regressor.predict(X_test)\n",
    "\n",
    "mse_hist = mean_squared_error(y_test, y_pred_hist)\n",
    "r2_hist = r2_score(y_test, y_pred_hist)\n",
    "\n",
    "print(\"HistGradientBoostingRegressor MSE:\", mse_hist)\n",
    "print(\"HistGradientBoostingRegressor R²:\", r2_hist)"
   ]
  },
  {
   "cell_type": "markdown",
   "metadata": {},
   "source": [
    "### XGBoost\n",
    "Best parameters from grid search: 'colsample_bytree': 1.0, 'learning_rate': 0.1, 'max_depth': 6, 'n_estimators': 300, 'subsample': 0.7"
   ]
  },
  {
   "cell_type": "code",
   "execution_count": 22,
   "metadata": {},
   "outputs": [
    {
     "name": "stdout",
     "output_type": "stream",
     "text": [
      "XGBoost MSE: 2124919474.2667944\n",
      "XGBoost R² Score: 0.8406023371421821\n"
     ]
    }
   ],
   "source": [
    "xgb_reg = xgb.XGBRegressor(\n",
    "    colsample_bytree=1.0,\n",
    "    learning_rate=0.1,\n",
    "    max_depth=6,\n",
    "    n_estimators=300,\n",
    "    subsample=0.7,\n",
    "    seed=42)\n",
    "\n",
    "xgb_reg.fit(X_train, y_train)\n",
    "\n",
    "y_pred_xgb = xgb_reg.predict(X_test)\n",
    "\n",
    "mse_xgb = mean_squared_error(y_test, y_pred_xgb)\n",
    "r2_xgb = r2_score(y_test, y_pred_xgb)\n",
    "\n",
    "print(\"XGBoost MSE:\", mse_xgb)\n",
    "print(\"XGBoost R² Score:\", r2_xgb)"
   ]
  },
  {
   "cell_type": "markdown",
   "metadata": {},
   "source": [
    "# Activities"
   ]
  },
  {
   "cell_type": "markdown",
   "metadata": {},
   "source": [
    "## Perform a Grid Search\n",
    "Compare the results of using grid search to tune hyperparameters with the results of the corresponding models in the housing_prices.ipynb notebook. Did we improve on the results for all classifiers?\n",
    "\n",
    "Where we got worse results, this suggests that we didn't configure our search to explore thoroughly enough. Examine the hyperparameters for each model type and use those to prepare a more thorough hyperparameter optimization.\n",
    " - https://scikit-learn.org/stable/modules/generated/sklearn.tree.DecisionTreeRegressor.html\n",
    " - https://scikit-learn.org/stable/modules/generated/sklearn.ensemble.RandomForestRegressor.html\n",
    " - https://scikit-learn.org/stable/modules/generated/sklearn.ensemble.HistGradientBoostingRegressor.html\n",
    " - https://xgboost.readthedocs.io/en/stable/python/python_api.html\n",
    " - https://scikit-learn.org/stable/modules/generated/sklearn.ensemble.AdaBoostRegressor.html\n",
    "\n",
    "Experiment with hyperparameter optimization and compare your results with the default regressors we used in the ensemble methods session (housing_prices.ipynb).\n",
    "\n",
    "__CAUTION__: The goal is to get familiar with hyperparameter tuning, not to use electricity for hours and hours training models. It is easy to get carried away!"
   ]
  },
  {
   "cell_type": "markdown",
   "metadata": {},
   "source": [
    "## Activity: Examine Other Solutions\n",
    "Examine the solutions that other people have developed for the California Housing Prices dataset with a view to understanding how they have tried to improve their models. For example, user OMARAYMANATIA achieves an MSE of 48911 at https://www.kaggle.com/code/omaraymanatia/california-housing-prices-prediction.\n",
    "\n",
    "Kaggle conveniently shows you the rating of users (OMARAYMANATIA is a rated Kaggle Expert because of his notebooks) so we can focus on the work of the more experienced Kaggle users.\n",
    "\n",
    "From your explorations, compile a list of questions and ideas to try. Sort these by priority, taking into account how much work is involved (effort) and estimated likely payoff (value). Low-effort high-value actions are a great place to continue building your knowledge and skills. What list did you come up with?\n",
    "\n"
   ]
  },
  {
   "cell_type": "markdown",
   "metadata": {},
   "source": [
    "## Optional Activity: Experiment with Other Optimizers \n",
    "Scikit-learn has other hyperparameter optimizers and there are other optimization libraries. You may find that you get better results more quickly with those. For example, the Optuna code below found a set of hyperparameter values in just over 30 seconds that were as good as the ones that took GridSearch over 12 minutes to find. See https://optuna.org/ and for more information."
   ]
  },
  {
   "cell_type": "code",
   "execution_count": 23,
   "metadata": {},
   "outputs": [],
   "source": [
    "import optuna  # Optuna needs to be installed first\n",
    "from sklearn.model_selection import cross_val_score"
   ]
  },
  {
   "cell_type": "code",
   "execution_count": 24,
   "metadata": {},
   "outputs": [
    {
     "name": "stderr",
     "output_type": "stream",
     "text": [
      "[I 2025-06-12 00:35:14,784] A new study created in memory with name: no-name-9ab4c705-81c0-476b-aab1-4bce0fde0ce5\n",
      "[I 2025-06-12 00:35:16,266] Trial 0 finished with value: 4795047814.47474 and parameters: {'criterion': 'absolute_error', 'max_depth': None, 'min_samples_split': 2, 'min_samples_leaf': 14, 'min_weight_fraction_leaf': 0.004079711121604664, 'max_features': 'log2', 'max_leaf_nodes': None, 'min_impurity_decrease': 0.00200948113889907, 'ccp_alpha': 0.017071355912086895}. Best is trial 0 with value: 4795047814.47474.\n",
      "[I 2025-06-12 00:35:16,313] Trial 1 finished with value: 4388150757.327019 and parameters: {'criterion': 'squared_error', 'max_depth': None, 'min_samples_split': 2, 'min_samples_leaf': 20, 'min_weight_fraction_leaf': 0.0012513352173886684, 'max_features': 'sqrt', 'max_leaf_nodes': 150, 'min_impurity_decrease': 0.00925011302077775, 'ccp_alpha': 0.011067456539850558}. Best is trial 1 with value: 4388150757.327019.\n",
      "[I 2025-06-12 00:35:16,359] Trial 2 finished with value: 4549900795.94805 and parameters: {'criterion': 'poisson', 'max_depth': 10, 'min_samples_split': 2, 'min_samples_leaf': 14, 'min_weight_fraction_leaf': 0.002259498794204897, 'max_features': 'log2', 'max_leaf_nodes': None, 'min_impurity_decrease': 0.007945605893681545, 'ccp_alpha': 0.006825348120714745}. Best is trial 1 with value: 4388150757.327019.\n",
      "[I 2025-06-12 00:35:17,827] Trial 3 finished with value: 5026536970.808957 and parameters: {'criterion': 'absolute_error', 'max_depth': None, 'min_samples_split': 3, 'min_samples_leaf': 1, 'min_weight_fraction_leaf': 0.007279304764293957, 'max_features': 'log2', 'max_leaf_nodes': None, 'min_impurity_decrease': 0.005414945718403222, 'ccp_alpha': 0.014869130303443159}. Best is trial 1 with value: 4388150757.327019.\n",
      "[I 2025-06-12 00:35:17,926] Trial 4 finished with value: 3506660596.7755437 and parameters: {'criterion': 'poisson', 'max_depth': None, 'min_samples_split': 2, 'min_samples_leaf': 20, 'min_weight_fraction_leaf': 0.0019052702476236528, 'max_features': None, 'max_leaf_nodes': None, 'min_impurity_decrease': 0.0036127351160265097, 'ccp_alpha': 0.009385062825665152}. Best is trial 4 with value: 3506660596.7755437.\n",
      "[I 2025-06-12 00:35:17,974] Trial 5 finished with value: 4287071117.493734 and parameters: {'criterion': 'squared_error', 'max_depth': None, 'min_samples_split': 2, 'min_samples_leaf': 20, 'min_weight_fraction_leaf': 0.003963726477688587, 'max_features': 'sqrt', 'max_leaf_nodes': None, 'min_impurity_decrease': 0.005533858418056806, 'ccp_alpha': 0.00876535862256899}. Best is trial 4 with value: 3506660596.7755437.\n",
      "[I 2025-06-12 00:35:18,021] Trial 6 finished with value: 4647751783.564342 and parameters: {'criterion': 'poisson', 'max_depth': None, 'min_samples_split': 3, 'min_samples_leaf': 1, 'min_weight_fraction_leaf': 0.004450082820465147, 'max_features': 'sqrt', 'max_leaf_nodes': 150, 'min_impurity_decrease': 0.0029531838958659507, 'ccp_alpha': 0.013780736289688317}. Best is trial 4 with value: 3506660596.7755437.\n",
      "[I 2025-06-12 00:35:21,044] Trial 7 finished with value: 4058377969.1978707 and parameters: {'criterion': 'absolute_error', 'max_depth': 10, 'min_samples_split': 3, 'min_samples_leaf': 14, 'min_weight_fraction_leaf': 0.002448686225648733, 'max_features': None, 'max_leaf_nodes': 100, 'min_impurity_decrease': 0.006187531343774896, 'ccp_alpha': 0.010233949662688436}. Best is trial 4 with value: 3506660596.7755437.\n",
      "[I 2025-06-12 00:35:21,081] Trial 8 finished with value: 4945287221.92281 and parameters: {'criterion': 'squared_error', 'max_depth': 10, 'min_samples_split': 2, 'min_samples_leaf': 14, 'min_weight_fraction_leaf': 0.005776504802423695, 'max_features': 'sqrt', 'max_leaf_nodes': 100, 'min_impurity_decrease': 0.006193281852884029, 'ccp_alpha': 0.0023586996083838495}. Best is trial 4 with value: 3506660596.7755437.\n",
      "[I 2025-06-12 00:35:21,117] Trial 9 finished with value: 4994471318.102353 and parameters: {'criterion': 'friedman_mse', 'max_depth': 10, 'min_samples_split': 3, 'min_samples_leaf': 20, 'min_weight_fraction_leaf': 0.00794302824616017, 'max_features': 'log2', 'max_leaf_nodes': 150, 'min_impurity_decrease': 0.0017836982432211557, 'ccp_alpha': 0.010491764927862557}. Best is trial 4 with value: 3506660596.7755437.\n",
      "[I 2025-06-12 00:35:21,209] Trial 10 finished with value: 4156905282.267834 and parameters: {'criterion': 'poisson', 'max_depth': None, 'min_samples_split': 2, 'min_samples_leaf': 20, 'min_weight_fraction_leaf': 0.009775241150733404, 'max_features': None, 'max_leaf_nodes': None, 'min_impurity_decrease': 0.00017788828399957447, 'ccp_alpha': 0.000559169004207296}. Best is trial 4 with value: 3506660596.7755437.\n",
      "[I 2025-06-12 00:35:24,315] Trial 11 finished with value: 4044509868.5831275 and parameters: {'criterion': 'absolute_error', 'max_depth': 10, 'min_samples_split': 3, 'min_samples_leaf': 14, 'min_weight_fraction_leaf': 2.02767855594305e-05, 'max_features': None, 'max_leaf_nodes': 100, 'min_impurity_decrease': 0.003972008414959383, 'ccp_alpha': 0.0057385808538901965}. Best is trial 4 with value: 3506660596.7755437.\n",
      "[I 2025-06-12 00:35:24,397] Trial 12 finished with value: 3915003283.8345284 and parameters: {'criterion': 'friedman_mse', 'max_depth': 10, 'min_samples_split': 3, 'min_samples_leaf': 14, 'min_weight_fraction_leaf': 0.00012160258557573977, 'max_features': None, 'max_leaf_nodes': 100, 'min_impurity_decrease': 0.003580655304400332, 'ccp_alpha': 0.006155445247868399}. Best is trial 4 with value: 3506660596.7755437.\n",
      "[I 2025-06-12 00:35:24,478] Trial 13 finished with value: 3896015964.1121354 and parameters: {'criterion': 'friedman_mse', 'max_depth': 10, 'min_samples_split': 3, 'min_samples_leaf': 20, 'min_weight_fraction_leaf': 7.07101203536386e-05, 'max_features': None, 'max_leaf_nodes': 100, 'min_impurity_decrease': 0.004026077559493484, 'ccp_alpha': 0.004136196081944172}. Best is trial 4 with value: 3506660596.7755437.\n",
      "[I 2025-06-12 00:35:24,561] Trial 14 finished with value: 3866062218.260418 and parameters: {'criterion': 'friedman_mse', 'max_depth': None, 'min_samples_split': 2, 'min_samples_leaf': 20, 'min_weight_fraction_leaf': 0.0022298902519693273, 'max_features': None, 'max_leaf_nodes': 100, 'min_impurity_decrease': 0.003971809924827041, 'ccp_alpha': 0.0033897770082698406}. Best is trial 4 with value: 3506660596.7755437.\n",
      "[I 2025-06-12 00:35:24,641] Trial 15 finished with value: 3695336827.1914515 and parameters: {'criterion': 'friedman_mse', 'max_depth': None, 'min_samples_split': 2, 'min_samples_leaf': 20, 'min_weight_fraction_leaf': 0.0027748930979203537, 'max_features': None, 'max_leaf_nodes': None, 'min_impurity_decrease': 9.422158126922136e-05, 'ccp_alpha': 0.01982588494867924}. Best is trial 4 with value: 3506660596.7755437.\n",
      "[I 2025-06-12 00:35:24,743] Trial 16 finished with value: 3602773300.1368694 and parameters: {'criterion': 'poisson', 'max_depth': None, 'min_samples_split': 2, 'min_samples_leaf': 20, 'min_weight_fraction_leaf': 0.0030533830113725294, 'max_features': None, 'max_leaf_nodes': None, 'min_impurity_decrease': 0.00017378270004285304, 'ccp_alpha': 0.01940239954836318}. Best is trial 4 with value: 3506660596.7755437.\n",
      "[I 2025-06-12 00:35:24,848] Trial 17 finished with value: 3867945967.6913967 and parameters: {'criterion': 'poisson', 'max_depth': None, 'min_samples_split': 2, 'min_samples_leaf': 20, 'min_weight_fraction_leaf': 0.0051056934675325705, 'max_features': None, 'max_leaf_nodes': None, 'min_impurity_decrease': 0.0013871565257462942, 'ccp_alpha': 0.01313513927768543}. Best is trial 4 with value: 3506660596.7755437.\n",
      "[I 2025-06-12 00:35:24,962] Trial 18 finished with value: 3463749428.800771 and parameters: {'criterion': 'poisson', 'max_depth': None, 'min_samples_split': 2, 'min_samples_leaf': 1, 'min_weight_fraction_leaf': 0.001354675869076697, 'max_features': None, 'max_leaf_nodes': None, 'min_impurity_decrease': 0.007297686771121985, 'ccp_alpha': 0.01978106282857476}. Best is trial 18 with value: 3463749428.800771.\n",
      "[I 2025-06-12 00:35:25,075] Trial 19 finished with value: 3463749428.800771 and parameters: {'criterion': 'poisson', 'max_depth': None, 'min_samples_split': 2, 'min_samples_leaf': 1, 'min_weight_fraction_leaf': 0.0013501750017524345, 'max_features': None, 'max_leaf_nodes': None, 'min_impurity_decrease': 0.0077913853347906376, 'ccp_alpha': 0.01653896560370276}. Best is trial 18 with value: 3463749428.800771.\n",
      "[I 2025-06-12 00:35:25,188] Trial 20 finished with value: 3472788566.172074 and parameters: {'criterion': 'poisson', 'max_depth': None, 'min_samples_split': 2, 'min_samples_leaf': 1, 'min_weight_fraction_leaf': 0.0012576410227554834, 'max_features': None, 'max_leaf_nodes': None, 'min_impurity_decrease': 0.007750905676606171, 'ccp_alpha': 0.016790450767522336}. Best is trial 18 with value: 3463749428.800771.\n",
      "[I 2025-06-12 00:35:25,310] Trial 21 finished with value: 3560364378.050907 and parameters: {'criterion': 'poisson', 'max_depth': None, 'min_samples_split': 2, 'min_samples_leaf': 1, 'min_weight_fraction_leaf': 0.0010471583157717766, 'max_features': None, 'max_leaf_nodes': None, 'min_impurity_decrease': 0.007633190510994117, 'ccp_alpha': 0.016963150472603668}. Best is trial 18 with value: 3463749428.800771.\n",
      "[I 2025-06-12 00:35:25,412] Trial 22 finished with value: 3427773872.459923 and parameters: {'criterion': 'poisson', 'max_depth': None, 'min_samples_split': 2, 'min_samples_leaf': 1, 'min_weight_fraction_leaf': 0.0013834871707788618, 'max_features': None, 'max_leaf_nodes': None, 'min_impurity_decrease': 0.00986555251966847, 'ccp_alpha': 0.017167445972640156}. Best is trial 22 with value: 3427773872.459923.\n",
      "[I 2025-06-12 00:35:25,515] Trial 23 finished with value: 3619613231.1172886 and parameters: {'criterion': 'poisson', 'max_depth': None, 'min_samples_split': 2, 'min_samples_leaf': 1, 'min_weight_fraction_leaf': 0.003228986334414083, 'max_features': None, 'max_leaf_nodes': None, 'min_impurity_decrease': 0.009971369375306339, 'ccp_alpha': 0.018378789653824567}. Best is trial 22 with value: 3427773872.459923.\n",
      "[I 2025-06-12 00:35:25,637] Trial 24 finished with value: 3538577790.8644595 and parameters: {'criterion': 'poisson', 'max_depth': None, 'min_samples_split': 2, 'min_samples_leaf': 1, 'min_weight_fraction_leaf': 0.0011243983607396877, 'max_features': None, 'max_leaf_nodes': None, 'min_impurity_decrease': 0.008719821428179224, 'ccp_alpha': 0.015347611398915325}. Best is trial 22 with value: 3427773872.459923.\n",
      "[I 2025-06-12 00:35:25,740] Trial 25 finished with value: 3707021414.6605797 and parameters: {'criterion': 'poisson', 'max_depth': None, 'min_samples_split': 2, 'min_samples_leaf': 1, 'min_weight_fraction_leaf': 0.003507341500526418, 'max_features': None, 'max_leaf_nodes': 150, 'min_impurity_decrease': 0.006685065737078805, 'ccp_alpha': 0.018434136989931214}. Best is trial 22 with value: 3427773872.459923.\n",
      "[I 2025-06-12 00:35:25,853] Trial 26 finished with value: 3474345641.05041 and parameters: {'criterion': 'poisson', 'max_depth': None, 'min_samples_split': 2, 'min_samples_leaf': 1, 'min_weight_fraction_leaf': 0.0015266768161200954, 'max_features': None, 'max_leaf_nodes': None, 'min_impurity_decrease': 0.008686292933640833, 'ccp_alpha': 0.01305437079644576}. Best is trial 22 with value: 3427773872.459923.\n",
      "[I 2025-06-12 00:35:25,945] Trial 27 finished with value: 3947428397.854774 and parameters: {'criterion': 'poisson', 'max_depth': None, 'min_samples_split': 2, 'min_samples_leaf': 1, 'min_weight_fraction_leaf': 0.0056780964556553196, 'max_features': None, 'max_leaf_nodes': None, 'min_impurity_decrease': 0.009999022377535425, 'ccp_alpha': 0.015769075443094683}. Best is trial 22 with value: 3427773872.459923.\n",
      "[I 2025-06-12 00:35:26,016] Trial 28 finished with value: 4235623775.05876 and parameters: {'criterion': 'poisson', 'max_depth': None, 'min_samples_split': 2, 'min_samples_leaf': 1, 'min_weight_fraction_leaf': 0.0007534226635796526, 'max_features': 'log2', 'max_leaf_nodes': None, 'min_impurity_decrease': 0.007203949922349692, 'ccp_alpha': 0.01822815167656955}. Best is trial 22 with value: 3427773872.459923.\n",
      "[I 2025-06-12 00:35:26,078] Trial 29 finished with value: 4459488066.376992 and parameters: {'criterion': 'squared_error', 'max_depth': None, 'min_samples_split': 2, 'min_samples_leaf': 1, 'min_weight_fraction_leaf': 0.003908486669421887, 'max_features': 'sqrt', 'max_leaf_nodes': None, 'min_impurity_decrease': 0.00865926908428651, 'ccp_alpha': 0.012070107835158593}. Best is trial 22 with value: 3427773872.459923.\n",
      "[I 2025-06-12 00:35:27,430] Trial 30 finished with value: 4768435060.737382 and parameters: {'criterion': 'absolute_error', 'max_depth': None, 'min_samples_split': 2, 'min_samples_leaf': 1, 'min_weight_fraction_leaf': 0.0006084792092059057, 'max_features': 'log2', 'max_leaf_nodes': 150, 'min_impurity_decrease': 0.009315800847495097, 'ccp_alpha': 0.016587972179384562}. Best is trial 22 with value: 3427773872.459923.\n",
      "[I 2025-06-12 00:35:27,543] Trial 31 finished with value: 3486177887.792544 and parameters: {'criterion': 'poisson', 'max_depth': None, 'min_samples_split': 2, 'min_samples_leaf': 1, 'min_weight_fraction_leaf': 0.0016920549715136977, 'max_features': None, 'max_leaf_nodes': None, 'min_impurity_decrease': 0.007541233884901774, 'ccp_alpha': 0.017556883355002616}. Best is trial 22 with value: 3427773872.459923.\n",
      "[I 2025-06-12 00:35:27,657] Trial 32 finished with value: 3476047015.3405766 and parameters: {'criterion': 'poisson', 'max_depth': None, 'min_samples_split': 2, 'min_samples_leaf': 1, 'min_weight_fraction_leaf': 0.0015090956949501823, 'max_features': None, 'max_leaf_nodes': None, 'min_impurity_decrease': 0.006771361202771657, 'ccp_alpha': 0.019957305998547}. Best is trial 22 with value: 3427773872.459923.\n",
      "[I 2025-06-12 00:35:27,791] Trial 33 finished with value: 3647093147.828076 and parameters: {'criterion': 'poisson', 'max_depth': None, 'min_samples_split': 2, 'min_samples_leaf': 1, 'min_weight_fraction_leaf': 0.0007425555131374278, 'max_features': None, 'max_leaf_nodes': None, 'min_impurity_decrease': 0.008196369291359945, 'ccp_alpha': 0.014553273481126807}. Best is trial 22 with value: 3427773872.459923.\n",
      "[I 2025-06-12 00:35:27,884] Trial 34 finished with value: 3519909324.859587 and parameters: {'criterion': 'poisson', 'max_depth': None, 'min_samples_split': 2, 'min_samples_leaf': 1, 'min_weight_fraction_leaf': 0.0023207181903015972, 'max_features': None, 'max_leaf_nodes': None, 'min_impurity_decrease': 0.009206429388342898, 'ccp_alpha': 0.016108117868432834}. Best is trial 22 with value: 3427773872.459923.\n",
      "[I 2025-06-12 00:35:28,001] Trial 35 finished with value: 3499061040.2531657 and parameters: {'criterion': 'poisson', 'max_depth': None, 'min_samples_split': 2, 'min_samples_leaf': 1, 'min_weight_fraction_leaf': 0.0019675667937383862, 'max_features': None, 'max_leaf_nodes': None, 'min_impurity_decrease': 0.008250900322312533, 'ccp_alpha': 0.017394222414426848}. Best is trial 22 with value: 3427773872.459923.\n",
      "[I 2025-06-12 00:35:28,063] Trial 36 finished with value: 4131523760.9317646 and parameters: {'criterion': 'squared_error', 'max_depth': None, 'min_samples_split': 2, 'min_samples_leaf': 1, 'min_weight_fraction_leaf': 0.0012384853028534657, 'max_features': 'log2', 'max_leaf_nodes': None, 'min_impurity_decrease': 0.004902643173164668, 'ccp_alpha': 0.019002495713339937}. Best is trial 22 with value: 3427773872.459923.\n",
      "[I 2025-06-12 00:35:28,124] Trial 37 finished with value: 4408593228.9322 and parameters: {'criterion': 'poisson', 'max_depth': None, 'min_samples_split': 2, 'min_samples_leaf': 1, 'min_weight_fraction_leaf': 0.002623248871679006, 'max_features': 'sqrt', 'max_leaf_nodes': None, 'min_impurity_decrease': 0.007113204402045425, 'ccp_alpha': 0.014199346223751933}. Best is trial 22 with value: 3427773872.459923.\n",
      "[I 2025-06-12 00:35:31,101] Trial 38 finished with value: 3958179498.566569 and parameters: {'criterion': 'absolute_error', 'max_depth': None, 'min_samples_split': 2, 'min_samples_leaf': 1, 'min_weight_fraction_leaf': 0.004631801188358889, 'max_features': None, 'max_leaf_nodes': 150, 'min_impurity_decrease': 0.009418350288963168, 'ccp_alpha': 0.01166333912676916}. Best is trial 22 with value: 3427773872.459923.\n",
      "[I 2025-06-12 00:35:31,183] Trial 39 finished with value: 4556974508.647128 and parameters: {'criterion': 'poisson', 'max_depth': None, 'min_samples_split': 2, 'min_samples_leaf': 1, 'min_weight_fraction_leaf': 0.0004976901726822173, 'max_features': 'sqrt', 'max_leaf_nodes': None, 'min_impurity_decrease': 0.00594165848774538, 'ccp_alpha': 0.008062256959872881}. Best is trial 22 with value: 3427773872.459923.\n",
      "[I 2025-06-12 00:35:31,265] Trial 40 finished with value: 3758950043.518657 and parameters: {'criterion': 'squared_error', 'max_depth': 10, 'min_samples_split': 2, 'min_samples_leaf': 14, 'min_weight_fraction_leaf': 0.0019293589837439977, 'max_features': None, 'max_leaf_nodes': None, 'min_impurity_decrease': 0.007847281585229307, 'ccp_alpha': 0.015506885162430576}. Best is trial 22 with value: 3427773872.459923.\n",
      "[I 2025-06-12 00:35:31,378] Trial 41 finished with value: 3476047015.3405766 and parameters: {'criterion': 'poisson', 'max_depth': None, 'min_samples_split': 2, 'min_samples_leaf': 1, 'min_weight_fraction_leaf': 0.0015196385646289627, 'max_features': None, 'max_leaf_nodes': None, 'min_impurity_decrease': 0.008772860473637007, 'ccp_alpha': 0.013093205153218568}. Best is trial 22 with value: 3427773872.459923.\n",
      "[I 2025-06-12 00:35:31,480] Trial 42 finished with value: 3472788566.172074 and parameters: {'criterion': 'poisson', 'max_depth': None, 'min_samples_split': 2, 'min_samples_leaf': 1, 'min_weight_fraction_leaf': 0.001248957786020305, 'max_features': None, 'max_leaf_nodes': None, 'min_impurity_decrease': 0.008591209558313604, 'ccp_alpha': 0.01739569205802199}. Best is trial 22 with value: 3427773872.459923.\n",
      "[I 2025-06-12 00:35:31,584] Trial 43 finished with value: 3673017766.912235 and parameters: {'criterion': 'poisson', 'max_depth': None, 'min_samples_split': 2, 'min_samples_leaf': 1, 'min_weight_fraction_leaf': 0.0035186663324858775, 'max_features': None, 'max_leaf_nodes': None, 'min_impurity_decrease': 0.009595325980035048, 'ccp_alpha': 0.017837682611624016}. Best is trial 22 with value: 3427773872.459923.\n",
      "[I 2025-06-12 00:35:31,675] Trial 44 finished with value: 4038725371.5720973 and parameters: {'criterion': 'poisson', 'max_depth': None, 'min_samples_split': 2, 'min_samples_leaf': 1, 'min_weight_fraction_leaf': 0.0075906467787818285, 'max_features': None, 'max_leaf_nodes': None, 'min_impurity_decrease': 0.008144607941902172, 'ccp_alpha': 0.01627287660580864}. Best is trial 22 with value: 3427773872.459923.\n",
      "[I 2025-06-12 00:35:31,746] Trial 45 finished with value: 4249396696.9115624 and parameters: {'criterion': 'poisson', 'max_depth': None, 'min_samples_split': 2, 'min_samples_leaf': 1, 'min_weight_fraction_leaf': 0.0009266438363112438, 'max_features': 'log2', 'max_leaf_nodes': None, 'min_impurity_decrease': 0.00659400571527739, 'ccp_alpha': 0.016659794231998554}. Best is trial 22 with value: 3427773872.459923.\n",
      "[I 2025-06-12 00:35:31,840] Trial 46 finished with value: 4126971579.259173 and parameters: {'criterion': 'poisson', 'max_depth': 10, 'min_samples_split': 3, 'min_samples_leaf': 14, 'min_weight_fraction_leaf': 0.009106243889678659, 'max_features': None, 'max_leaf_nodes': 150, 'min_impurity_decrease': 0.005129360210658088, 'ccp_alpha': 0.01884778873272328}. Best is trial 22 with value: 3427773872.459923.\n",
      "[I 2025-06-12 00:35:31,943] Trial 47 finished with value: 3784529400.276381 and parameters: {'criterion': 'poisson', 'max_depth': None, 'min_samples_split': 2, 'min_samples_leaf': 1, 'min_weight_fraction_leaf': 0.002119908641987248, 'max_features': None, 'max_leaf_nodes': 100, 'min_impurity_decrease': 0.009064326860033152, 'ccp_alpha': 0.014918445743245974}. Best is trial 22 with value: 3427773872.459923.\n",
      "[I 2025-06-12 00:35:33,561] Trial 48 finished with value: 4388737799.355687 and parameters: {'criterion': 'absolute_error', 'max_depth': None, 'min_samples_split': 2, 'min_samples_leaf': 1, 'min_weight_fraction_leaf': 0.0004973680343994416, 'max_features': 'sqrt', 'max_leaf_nodes': None, 'min_impurity_decrease': 0.00719585343560282, 'ccp_alpha': 0.01742128649071171}. Best is trial 22 with value: 3427773872.459923.\n",
      "[I 2025-06-12 00:35:33,655] Trial 49 finished with value: 3787530241.976364 and parameters: {'criterion': 'friedman_mse', 'max_depth': 10, 'min_samples_split': 3, 'min_samples_leaf': 1, 'min_weight_fraction_leaf': 0.0025723845069635927, 'max_features': None, 'max_leaf_nodes': None, 'min_impurity_decrease': 0.005800537440042693, 'ccp_alpha': 0.019164109183785392}. Best is trial 22 with value: 3427773872.459923.\n",
      "[I 2025-06-12 00:35:33,758] Trial 50 finished with value: 3769082795.4396195 and parameters: {'criterion': 'poisson', 'max_depth': None, 'min_samples_split': 2, 'min_samples_leaf': 14, 'min_weight_fraction_leaf': 0.0003771172480815789, 'max_features': None, 'max_leaf_nodes': 100, 'min_impurity_decrease': 0.007612811176857589, 'ccp_alpha': 0.019900572153054477}. Best is trial 22 with value: 3427773872.459923.\n",
      "[I 2025-06-12 00:35:33,860] Trial 51 finished with value: 3462648174.1473274 and parameters: {'criterion': 'poisson', 'max_depth': None, 'min_samples_split': 2, 'min_samples_leaf': 1, 'min_weight_fraction_leaf': 0.0016321003204914652, 'max_features': None, 'max_leaf_nodes': None, 'min_impurity_decrease': 0.008374520966636864, 'ccp_alpha': 0.013311418995828656}. Best is trial 22 with value: 3427773872.459923.\n",
      "[I 2025-06-12 00:35:33,987] Trial 52 finished with value: 3466583247.3722744 and parameters: {'criterion': 'poisson', 'max_depth': None, 'min_samples_split': 2, 'min_samples_leaf': 1, 'min_weight_fraction_leaf': 0.0012683691419407893, 'max_features': None, 'max_leaf_nodes': None, 'min_impurity_decrease': 0.0083116785022399, 'ccp_alpha': 0.013713633632900957}. Best is trial 22 with value: 3427773872.459923.\n",
      "[I 2025-06-12 00:35:34,091] Trial 53 finished with value: 3602183502.46023 and parameters: {'criterion': 'poisson', 'max_depth': None, 'min_samples_split': 2, 'min_samples_leaf': 1, 'min_weight_fraction_leaf': 0.0028624067948784956, 'max_features': None, 'max_leaf_nodes': None, 'min_impurity_decrease': 0.007938462646548829, 'ccp_alpha': 0.013685474764897895}. Best is trial 22 with value: 3427773872.459923.\n",
      "[I 2025-06-12 00:35:34,261] Trial 54 finished with value: 3506503465.327741 and parameters: {'criterion': 'poisson', 'max_depth': None, 'min_samples_split': 2, 'min_samples_leaf': 1, 'min_weight_fraction_leaf': 0.0018376466192452808, 'max_features': None, 'max_leaf_nodes': None, 'min_impurity_decrease': 0.008297516289376396, 'ccp_alpha': 0.011016742316202593}. Best is trial 22 with value: 3427773872.459923.\n",
      "[I 2025-06-12 00:35:34,448] Trial 55 finished with value: 4906837524.336747 and parameters: {'criterion': 'poisson', 'max_depth': None, 'min_samples_split': 2, 'min_samples_leaf': 1, 'min_weight_fraction_leaf': 1.1034606383892578e-05, 'max_features': None, 'max_leaf_nodes': None, 'min_impurity_decrease': 0.006446568641033136, 'ccp_alpha': 0.01222215250633801}. Best is trial 22 with value: 3427773872.459923.\n",
      "[I 2025-06-12 00:35:34,531] Trial 56 finished with value: 4066406266.0080147 and parameters: {'criterion': 'squared_error', 'max_depth': None, 'min_samples_split': 2, 'min_samples_leaf': 1, 'min_weight_fraction_leaf': 0.006480769974581271, 'max_features': None, 'max_leaf_nodes': None, 'min_impurity_decrease': 0.009594509151803708, 'ccp_alpha': 0.015153788835721407}. Best is trial 22 with value: 3427773872.459923.\n",
      "[I 2025-06-12 00:35:34,625] Trial 57 finished with value: 3663638436.1626534 and parameters: {'criterion': 'friedman_mse', 'max_depth': None, 'min_samples_split': 2, 'min_samples_leaf': 20, 'min_weight_fraction_leaf': 0.001064651688506159, 'max_features': None, 'max_leaf_nodes': None, 'min_impurity_decrease': 0.007009325498187542, 'ccp_alpha': 0.009796739261499555}. Best is trial 22 with value: 3427773872.459923.\n",
      "[I 2025-06-12 00:35:34,709] Trial 58 finished with value: 3660282523.68598 and parameters: {'criterion': 'poisson', 'max_depth': 10, 'min_samples_split': 2, 'min_samples_leaf': 1, 'min_weight_fraction_leaf': 0.0023402548371232058, 'max_features': None, 'max_leaf_nodes': 150, 'min_impurity_decrease': 0.008947815253664506, 'ccp_alpha': 0.01439272157232855}. Best is trial 22 with value: 3427773872.459923.\n",
      "[I 2025-06-12 00:35:34,771] Trial 59 finished with value: 4377773659.754993 and parameters: {'criterion': 'poisson', 'max_depth': None, 'min_samples_split': 2, 'min_samples_leaf': 1, 'min_weight_fraction_leaf': 0.0015262766793885465, 'max_features': 'log2', 'max_leaf_nodes': None, 'min_impurity_decrease': 0.00759846321417796, 'ccp_alpha': 0.015700807321253344}. Best is trial 22 with value: 3427773872.459923.\n",
      "[I 2025-06-12 00:35:37,471] Trial 60 finished with value: 4051035866.421617 and parameters: {'criterion': 'absolute_error', 'max_depth': None, 'min_samples_split': 2, 'min_samples_leaf': 14, 'min_weight_fraction_leaf': 0.003207156421520321, 'max_features': None, 'max_leaf_nodes': 100, 'min_impurity_decrease': 0.008330989679794249, 'ccp_alpha': 0.008321597269215913}. Best is trial 22 with value: 3427773872.459923.\n",
      "[I 2025-06-12 00:35:37,586] Trial 61 finished with value: 3466583247.3722744 and parameters: {'criterion': 'poisson', 'max_depth': None, 'min_samples_split': 2, 'min_samples_leaf': 1, 'min_weight_fraction_leaf': 0.001282864123659548, 'max_features': None, 'max_leaf_nodes': None, 'min_impurity_decrease': 0.008522398246918991, 'ccp_alpha': 0.0180895423470956}. Best is trial 22 with value: 3427773872.459923.\n",
      "[I 2025-06-12 00:35:37,718] Trial 62 finished with value: 3588839963.640089 and parameters: {'criterion': 'poisson', 'max_depth': None, 'min_samples_split': 2, 'min_samples_leaf': 1, 'min_weight_fraction_leaf': 0.0008908155630310687, 'max_features': None, 'max_leaf_nodes': None, 'min_impurity_decrease': 0.007847659648738235, 'ccp_alpha': 0.018225084602236024}. Best is trial 22 with value: 3427773872.459923.\n",
      "[I 2025-06-12 00:35:37,827] Trial 63 finished with value: 3463749428.800771 and parameters: {'criterion': 'poisson', 'max_depth': None, 'min_samples_split': 2, 'min_samples_leaf': 1, 'min_weight_fraction_leaf': 0.0013280826495371087, 'max_features': None, 'max_leaf_nodes': None, 'min_impurity_decrease': 0.007350229798883321, 'ccp_alpha': 0.016931065303981998}. Best is trial 22 with value: 3427773872.459923.\n",
      "[I 2025-06-12 00:35:37,955] Trial 64 finished with value: 3485691629.2883587 and parameters: {'criterion': 'poisson', 'max_depth': None, 'min_samples_split': 2, 'min_samples_leaf': 1, 'min_weight_fraction_leaf': 0.0017523047613443202, 'max_features': None, 'max_leaf_nodes': None, 'min_impurity_decrease': 0.007410992418984245, 'ccp_alpha': 0.01860761116069782}. Best is trial 22 with value: 3427773872.459923.\n",
      "[I 2025-06-12 00:35:38,103] Trial 65 finished with value: 4231156442.3852596 and parameters: {'criterion': 'poisson', 'max_depth': None, 'min_samples_split': 2, 'min_samples_leaf': 1, 'min_weight_fraction_leaf': 0.0002730716790276461, 'max_features': None, 'max_leaf_nodes': None, 'min_impurity_decrease': 0.009757791776403218, 'ccp_alpha': 0.013626860299157452}. Best is trial 22 with value: 3427773872.459923.\n",
      "[I 2025-06-12 00:35:38,218] Trial 66 finished with value: 3500867712.022268 and parameters: {'criterion': 'poisson', 'max_depth': None, 'min_samples_split': 2, 'min_samples_leaf': 20, 'min_weight_fraction_leaf': 0.0021422801882637673, 'max_features': None, 'max_leaf_nodes': None, 'min_impurity_decrease': 0.002548963066061543, 'ccp_alpha': 0.016923281861987716}. Best is trial 22 with value: 3427773872.459923.\n",
      "[I 2025-06-12 00:35:38,292] Trial 67 finished with value: 4156763450.032921 and parameters: {'criterion': 'poisson', 'max_depth': None, 'min_samples_split': 2, 'min_samples_leaf': 1, 'min_weight_fraction_leaf': 0.0011968928417210338, 'max_features': 'sqrt', 'max_leaf_nodes': None, 'min_impurity_decrease': 0.008445293155996982, 'ccp_alpha': 0.0180020735822667}. Best is trial 22 with value: 3427773872.459923.\n",
      "[I 2025-06-12 00:35:38,407] Trial 68 finished with value: 3427705884.6115246 and parameters: {'criterion': 'poisson', 'max_depth': None, 'min_samples_split': 2, 'min_samples_leaf': 1, 'min_weight_fraction_leaf': 0.0014381773497878169, 'max_features': None, 'max_leaf_nodes': None, 'min_impurity_decrease': 0.009141702213870312, 'ccp_alpha': 0.016096535060756943}. Best is trial 68 with value: 3427705884.6115246.\n",
      "[I 2025-06-12 00:35:38,513] Trial 69 finished with value: 3778369574.5767765 and parameters: {'criterion': 'friedman_mse', 'max_depth': None, 'min_samples_split': 2, 'min_samples_leaf': 1, 'min_weight_fraction_leaf': 0.0007699238542717791, 'max_features': None, 'max_leaf_nodes': None, 'min_impurity_decrease': 0.008999862311421703, 'ccp_alpha': 0.016252728653258882}. Best is trial 68 with value: 3427705884.6115246.\n",
      "[I 2025-06-12 00:35:38,616] Trial 70 finished with value: 3608655412.1615853 and parameters: {'criterion': 'poisson', 'max_depth': 10, 'min_samples_split': 2, 'min_samples_leaf': 1, 'min_weight_fraction_leaf': 0.0016204811867856915, 'max_features': None, 'max_leaf_nodes': None, 'min_impurity_decrease': 0.009251063604579198, 'ccp_alpha': 0.012744033122645623}. Best is trial 68 with value: 3427705884.6115246.\n",
      "[I 2025-06-12 00:35:38,743] Trial 71 finished with value: 3463749428.800771 and parameters: {'criterion': 'poisson', 'max_depth': None, 'min_samples_split': 2, 'min_samples_leaf': 1, 'min_weight_fraction_leaf': 0.001334571583728135, 'max_features': None, 'max_leaf_nodes': None, 'min_impurity_decrease': 0.008009472208022334, 'ccp_alpha': 0.015848036326668407}. Best is trial 68 with value: 3427705884.6115246.\n",
      "[I 2025-06-12 00:35:38,857] Trial 72 finished with value: 3506503465.327741 and parameters: {'criterion': 'poisson', 'max_depth': None, 'min_samples_split': 2, 'min_samples_leaf': 1, 'min_weight_fraction_leaf': 0.0018652547562345724, 'max_features': None, 'max_leaf_nodes': None, 'min_impurity_decrease': 0.008074063207411167, 'ccp_alpha': 0.014961771699131349}. Best is trial 68 with value: 3427705884.6115246.\n",
      "[I 2025-06-12 00:35:38,962] Trial 73 finished with value: 3537378020.5384364 and parameters: {'criterion': 'poisson', 'max_depth': None, 'min_samples_split': 2, 'min_samples_leaf': 1, 'min_weight_fraction_leaf': 0.0024468190802508457, 'max_features': None, 'max_leaf_nodes': None, 'min_impurity_decrease': 0.007359060989993104, 'ccp_alpha': 0.015977824796101218}. Best is trial 68 with value: 3427705884.6115246.\n",
      "[I 2025-06-12 00:35:39,077] Trial 74 finished with value: 3427773872.459923 and parameters: {'criterion': 'poisson', 'max_depth': None, 'min_samples_split': 2, 'min_samples_leaf': 1, 'min_weight_fraction_leaf': 0.0013960041765929314, 'max_features': None, 'max_leaf_nodes': None, 'min_impurity_decrease': 0.009989390239090653, 'ccp_alpha': 0.01394952744644934}. Best is trial 68 with value: 3427705884.6115246.\n",
      "[I 2025-06-12 00:35:39,171] Trial 75 finished with value: 3716998718.222284 and parameters: {'criterion': 'squared_error', 'max_depth': None, 'min_samples_split': 2, 'min_samples_leaf': 1, 'min_weight_fraction_leaf': 0.002907624875203513, 'max_features': None, 'max_leaf_nodes': None, 'min_impurity_decrease': 0.009754940671893843, 'ccp_alpha': 0.014504399172042971}. Best is trial 68 with value: 3427705884.6115246.\n",
      "[I 2025-06-12 00:35:39,233] Trial 76 finished with value: 4370716708.569444 and parameters: {'criterion': 'poisson', 'max_depth': None, 'min_samples_split': 2, 'min_samples_leaf': 1, 'min_weight_fraction_leaf': 0.0020810577225964973, 'max_features': 'log2', 'max_leaf_nodes': None, 'min_impurity_decrease': 0.009352051405036955, 'ccp_alpha': 0.0005094615797849936}. Best is trial 68 with value: 3427705884.6115246.\n",
      "[I 2025-06-12 00:35:39,337] Trial 77 finished with value: 3646589801.677681 and parameters: {'criterion': 'poisson', 'max_depth': None, 'min_samples_split': 2, 'min_samples_leaf': 20, 'min_weight_fraction_leaf': 0.0006556217337658949, 'max_features': None, 'max_leaf_nodes': 150, 'min_impurity_decrease': 0.009942131383425982, 'ccp_alpha': 0.016949006447394145}. Best is trial 68 with value: 3427705884.6115246.\n",
      "[I 2025-06-12 00:35:39,441] Trial 78 finished with value: 3769082795.4396195 and parameters: {'criterion': 'poisson', 'max_depth': None, 'min_samples_split': 2, 'min_samples_leaf': 1, 'min_weight_fraction_leaf': 0.0014625920473215579, 'max_features': None, 'max_leaf_nodes': 100, 'min_impurity_decrease': 0.006917513932211515, 'ccp_alpha': 0.015379982709907302}. Best is trial 68 with value: 3427705884.6115246.\n",
      "[I 2025-06-12 00:35:42,547] Trial 79 finished with value: 3684712812.3206997 and parameters: {'criterion': 'absolute_error', 'max_depth': None, 'min_samples_split': 3, 'min_samples_leaf': 1, 'min_weight_fraction_leaf': 0.0010180949943578703, 'max_features': None, 'max_leaf_nodes': None, 'min_impurity_decrease': 0.008841430382405617, 'ccp_alpha': 0.016475279218140085}. Best is trial 68 with value: 3427705884.6115246.\n",
      "[I 2025-06-12 00:35:42,621] Trial 80 finished with value: 5381774022.510155 and parameters: {'criterion': 'poisson', 'max_depth': None, 'min_samples_split': 2, 'min_samples_leaf': 1, 'min_weight_fraction_leaf': 0.00020760015580948516, 'max_features': 'sqrt', 'max_leaf_nodes': None, 'min_impurity_decrease': 0.004332442348119888, 'ccp_alpha': 0.012502405251434392}. Best is trial 68 with value: 3427705884.6115246.\n",
      "[I 2025-06-12 00:35:42,747] Trial 81 finished with value: 3466583247.3722744 and parameters: {'criterion': 'poisson', 'max_depth': None, 'min_samples_split': 2, 'min_samples_leaf': 1, 'min_weight_fraction_leaf': 0.0012619785307016618, 'max_features': None, 'max_leaf_nodes': None, 'min_impurity_decrease': 0.009614150239023853, 'ccp_alpha': 0.014280695623894033}. Best is trial 68 with value: 3427705884.6115246.\n",
      "[I 2025-06-12 00:35:42,882] Trial 82 finished with value: 3427705884.6115246 and parameters: {'criterion': 'poisson', 'max_depth': None, 'min_samples_split': 2, 'min_samples_leaf': 1, 'min_weight_fraction_leaf': 0.0014289451898938327, 'max_features': None, 'max_leaf_nodes': None, 'min_impurity_decrease': 0.006274321942969015, 'ccp_alpha': 0.013779102160856605}. Best is trial 68 with value: 3427705884.6115246.\n",
      "[I 2025-06-12 00:35:43,004] Trial 83 finished with value: 3506373181.285047 and parameters: {'criterion': 'poisson', 'max_depth': None, 'min_samples_split': 2, 'min_samples_leaf': 1, 'min_weight_fraction_leaf': 0.0018109966536067267, 'max_features': None, 'max_leaf_nodes': None, 'min_impurity_decrease': 0.006437843253671185, 'ccp_alpha': 0.0114426571266255}. Best is trial 68 with value: 3427705884.6115246.\n",
      "[I 2025-06-12 00:35:43,131] Trial 84 finished with value: 3596630029.6523457 and parameters: {'criterion': 'poisson', 'max_depth': None, 'min_samples_split': 2, 'min_samples_leaf': 1, 'min_weight_fraction_leaf': 0.0009073889548089372, 'max_features': None, 'max_leaf_nodes': None, 'min_impurity_decrease': 0.006177333074266877, 'ccp_alpha': 0.015657709010089806}. Best is trial 68 with value: 3427705884.6115246.\n",
      "[I 2025-06-12 00:35:43,248] Trial 85 finished with value: 3427705884.6115246 and parameters: {'criterion': 'poisson', 'max_depth': None, 'min_samples_split': 2, 'min_samples_leaf': 1, 'min_weight_fraction_leaf': 0.0014323220268721891, 'max_features': None, 'max_leaf_nodes': None, 'min_impurity_decrease': 0.0008522719877591435, 'ccp_alpha': 0.01931218368073055}. Best is trial 68 with value: 3427705884.6115246.\n",
      "[I 2025-06-12 00:35:43,366] Trial 86 finished with value: 3427705884.6115246 and parameters: {'criterion': 'poisson', 'max_depth': None, 'min_samples_split': 2, 'min_samples_leaf': 14, 'min_weight_fraction_leaf': 0.000592911985712221, 'max_features': None, 'max_leaf_nodes': None, 'min_impurity_decrease': 0.0012779873340155645, 'ccp_alpha': 0.01910587089317833}. Best is trial 68 with value: 3427705884.6115246.\n",
      "[I 2025-06-12 00:35:43,482] Trial 87 finished with value: 3427705884.6115246 and parameters: {'criterion': 'poisson', 'max_depth': None, 'min_samples_split': 2, 'min_samples_leaf': 14, 'min_weight_fraction_leaf': 0.0007284909317108166, 'max_features': None, 'max_leaf_nodes': None, 'min_impurity_decrease': 0.0008223172125418181, 'ccp_alpha': 0.019433489627449833}. Best is trial 68 with value: 3427705884.6115246.\n",
      "[I 2025-06-12 00:35:43,598] Trial 88 finished with value: 3427705884.6115246 and parameters: {'criterion': 'poisson', 'max_depth': None, 'min_samples_split': 2, 'min_samples_leaf': 14, 'min_weight_fraction_leaf': 0.0005025417298284268, 'max_features': None, 'max_leaf_nodes': None, 'min_impurity_decrease': 0.0005025333523591385, 'ccp_alpha': 0.019338608506055798}. Best is trial 68 with value: 3427705884.6115246.\n",
      "[I 2025-06-12 00:35:43,690] Trial 89 finished with value: 3559337417.6457253 and parameters: {'criterion': 'poisson', 'max_depth': 10, 'min_samples_split': 2, 'min_samples_leaf': 14, 'min_weight_fraction_leaf': 0.00046131222797927876, 'max_features': None, 'max_leaf_nodes': None, 'min_impurity_decrease': 0.0006746785183793057, 'ccp_alpha': 0.019433710971666043}. Best is trial 68 with value: 3427705884.6115246.\n",
      "[I 2025-06-12 00:35:43,784] Trial 90 finished with value: 3637995990.2610345 and parameters: {'criterion': 'friedman_mse', 'max_depth': None, 'min_samples_split': 2, 'min_samples_leaf': 14, 'min_weight_fraction_leaf': 0.0005719472070161062, 'max_features': None, 'max_leaf_nodes': None, 'min_impurity_decrease': 0.001285940328105114, 'ccp_alpha': 0.01921239697289303}. Best is trial 68 with value: 3427705884.6115246.\n",
      "[I 2025-06-12 00:35:43,900] Trial 91 finished with value: 3427705884.6115246 and parameters: {'criterion': 'poisson', 'max_depth': None, 'min_samples_split': 2, 'min_samples_leaf': 14, 'min_weight_fraction_leaf': 0.0008348334467314627, 'max_features': None, 'max_leaf_nodes': None, 'min_impurity_decrease': 0.0007506215598288134, 'ccp_alpha': 0.01946410088656803}. Best is trial 68 with value: 3427705884.6115246.\n",
      "[I 2025-06-12 00:35:44,015] Trial 92 finished with value: 3427705884.6115246 and parameters: {'criterion': 'poisson', 'max_depth': None, 'min_samples_split': 2, 'min_samples_leaf': 14, 'min_weight_fraction_leaf': 0.0002772757304075013, 'max_features': None, 'max_leaf_nodes': None, 'min_impurity_decrease': 0.0005739234056073841, 'ccp_alpha': 0.018608178819019834}. Best is trial 68 with value: 3427705884.6115246.\n",
      "[I 2025-06-12 00:35:44,131] Trial 93 finished with value: 3427705884.6115246 and parameters: {'criterion': 'poisson', 'max_depth': None, 'min_samples_split': 2, 'min_samples_leaf': 14, 'min_weight_fraction_leaf': 0.000245903586161316, 'max_features': None, 'max_leaf_nodes': None, 'min_impurity_decrease': 0.0004692739772114355, 'ccp_alpha': 0.0188204383005965}. Best is trial 68 with value: 3427705884.6115246.\n",
      "[I 2025-06-12 00:35:44,247] Trial 94 finished with value: 3427705884.6115246 and parameters: {'criterion': 'poisson', 'max_depth': None, 'min_samples_split': 2, 'min_samples_leaf': 14, 'min_weight_fraction_leaf': 0.00024331887921418167, 'max_features': None, 'max_leaf_nodes': None, 'min_impurity_decrease': 0.0005017561467649688, 'ccp_alpha': 0.019510425086231572}. Best is trial 68 with value: 3427705884.6115246.\n",
      "[I 2025-06-12 00:35:44,341] Trial 95 finished with value: 3427705884.6115246 and parameters: {'criterion': 'poisson', 'max_depth': None, 'min_samples_split': 2, 'min_samples_leaf': 14, 'min_weight_fraction_leaf': 0.0002006987222638154, 'max_features': None, 'max_leaf_nodes': None, 'min_impurity_decrease': 0.0005336942671793737, 'ccp_alpha': 0.01948150829310238}. Best is trial 68 with value: 3427705884.6115246.\n",
      "[I 2025-06-12 00:35:44,470] Trial 96 finished with value: 3427705884.6115246 and parameters: {'criterion': 'poisson', 'max_depth': None, 'min_samples_split': 2, 'min_samples_leaf': 14, 'min_weight_fraction_leaf': 0.00033721451214562177, 'max_features': None, 'max_leaf_nodes': None, 'min_impurity_decrease': 0.0010971822132008477, 'ccp_alpha': 0.018721298123309606}. Best is trial 68 with value: 3427705884.6115246.\n",
      "[I 2025-06-12 00:35:44,534] Trial 97 finished with value: 4174169470.4324245 and parameters: {'criterion': 'squared_error', 'max_depth': None, 'min_samples_split': 2, 'min_samples_leaf': 14, 'min_weight_fraction_leaf': 0.0006877497599545698, 'max_features': 'log2', 'max_leaf_nodes': None, 'min_impurity_decrease': 0.0016610084953135934, 'ccp_alpha': 0.019725444269150388}. Best is trial 68 with value: 3427705884.6115246.\n",
      "[I 2025-06-12 00:35:44,639] Trial 98 finished with value: 3769082795.4396195 and parameters: {'criterion': 'poisson', 'max_depth': None, 'min_samples_split': 2, 'min_samples_leaf': 14, 'min_weight_fraction_leaf': 1.3882876226509102e-06, 'max_features': None, 'max_leaf_nodes': 100, 'min_impurity_decrease': 0.000362475540799519, 'ccp_alpha': 0.018796377104859804}. Best is trial 68 with value: 3427705884.6115246.\n",
      "[I 2025-06-12 00:35:44,744] Trial 99 finished with value: 3625425115.778055 and parameters: {'criterion': 'poisson', 'max_depth': None, 'min_samples_split': 2, 'min_samples_leaf': 14, 'min_weight_fraction_leaf': 0.00041149984923896134, 'max_features': None, 'max_leaf_nodes': 150, 'min_impurity_decrease': 0.0008092692359412433, 'ccp_alpha': 0.01778954907198162}. Best is trial 68 with value: 3427705884.6115246.\n"
     ]
    },
    {
     "name": "stdout",
     "output_type": "stream",
     "text": [
      "Best score: 3427705884.6115246\n",
      "Best parameters: {'criterion': 'poisson', 'max_depth': None, 'min_samples_split': 2, 'min_samples_leaf': 1, 'min_weight_fraction_leaf': 0.0014381773497878169, 'max_features': None, 'max_leaf_nodes': None, 'min_impurity_decrease': 0.009141702213870312, 'ccp_alpha': 0.016096535060756943}\n"
     ]
    }
   ],
   "source": [
    "def objective(trial):\n",
    "    # For ease of comparison, these were kept similar to values for used GridSearch above.\n",
    "    # You are welcome to experiment further.\n",
    "    params = {\n",
    "        'criterion': trial.suggest_categorical('criterion', ['squared_error', 'friedman_mse', 'absolute_error', 'poisson']),\n",
    "        'max_depth': trial.suggest_categorical('max_depth', [None, 10]),\n",
    "        'min_samples_split': trial.suggest_int('min_samples_split', 2, 3),\n",
    "        'min_samples_leaf': trial.suggest_categorical('min_samples_leaf', [1, 14, 20]),\n",
    "        'min_weight_fraction_leaf': trial.suggest_float('min_weight_fraction_leaf', 0.0, 0.01),\n",
    "        'max_features': trial.suggest_categorical('max_features', [None, 'sqrt', 'log2']),\n",
    "        'max_leaf_nodes': trial.suggest_categorical('max_leaf_nodes', [None, 100, 150]),\n",
    "        'min_impurity_decrease': trial.suggest_float('min_impurity_decrease', 0.0, 0.01),\n",
    "        'ccp_alpha': trial.suggest_float('ccp_alpha', 0.0, 0.02)\n",
    "    }\n",
    "\n",
    "    # Create a Decision Tree Regressor with parameters to be tuned\n",
    "    model = DecisionTreeRegressor(random_state=42, **params)\n",
    "    # Use cross-validation to evaluate the model\n",
    "    scores = cross_val_score(model, X_train, y_train,\n",
    "                             cv=3, scoring='neg_mean_squared_error', n_jobs=-1)\n",
    "    # Since scores are negative mean squared error, we negate it to get positive MSE\n",
    "    mse = -scores.mean()\n",
    "    return mse\n",
    "\n",
    "\n",
    "# Create a study object that will find the hyperparameters that minimize the objective\n",
    "study = optuna.create_study(direction='minimize')\n",
    "# You can adjust the number of trials here\n",
    "study.optimize(objective, n_trials=100)\n",
    "\n",
    "# Fetch the best parameters and the best score achieved\n",
    "best_params = study.best_params\n",
    "best_score = study.best_value\n",
    "\n",
    "print(\"Best score:\", best_score)\n",
    "print(\"Best parameters:\", best_params)"
   ]
  }
 ],
 "metadata": {
  "kernelspec": {
   "display_name": "AI-ML-Bootcamp-24-25",
   "language": "python",
   "name": "python3"
  },
  "language_info": {
   "codemirror_mode": {
    "name": "ipython",
    "version": 3
   },
   "file_extension": ".py",
   "mimetype": "text/x-python",
   "name": "python",
   "nbconvert_exporter": "python",
   "pygments_lexer": "ipython3",
   "version": "3.12.3"
  }
 },
 "nbformat": 4,
 "nbformat_minor": 2
}
